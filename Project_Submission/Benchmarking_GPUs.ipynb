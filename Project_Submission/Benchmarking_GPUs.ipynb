{
  "nbformat": 4,
  "nbformat_minor": 0,
  "metadata": {
    "colab": {
      "provenance": [],
      "machine_shape": "hm",
      "gpuType": "T4",
      "toc_visible": true
    },
    "kernelspec": {
      "name": "python3",
      "display_name": "Python 3"
    },
    "language_info": {
      "name": "python"
    },
    "accelerator": "GPU"
  },
  "cells": [
    {
      "cell_type": "markdown",
      "source": [
        "## 1. Connect to google drive\n",
        "\n",
        "Connect to google drive to store data from the test."
      ],
      "metadata": {
        "id": "ejYEgcNmPcQo"
      }
    },
    {
      "cell_type": "code",
      "source": [
        "# Connect to MyDrive for now, change location when running locally\n",
        "from google.colab import drive\n",
        "\n",
        "drive.mount('/content/drive')\n"
      ],
      "metadata": {
        "colab": {
          "base_uri": "https://localhost:8080/"
        },
        "id": "icZFxFKbVKsM",
        "outputId": "f658f412-e531-488d-9957-def37df44a0a"
      },
      "execution_count": 1,
      "outputs": [
        {
          "output_type": "stream",
          "name": "stdout",
          "text": [
            "Mounted at /content/drive\n"
          ]
        }
      ]
    },
    {
      "cell_type": "markdown",
      "source": [
        "#### Install dependencies"
      ],
      "metadata": {
        "id": "gOwrS1E5QBl2"
      }
    },
    {
      "cell_type": "code",
      "source": [
        "! pip install wget onnxruntime"
      ],
      "metadata": {
        "colab": {
          "base_uri": "https://localhost:8080/"
        },
        "id": "gYPGFvBEL34m",
        "outputId": "46fe2767-5f8a-4c6a-9f2e-e766a12fceb0"
      },
      "execution_count": 2,
      "outputs": [
        {
          "output_type": "stream",
          "name": "stdout",
          "text": [
            "Collecting wget\n",
            "  Downloading wget-3.2.zip (10 kB)\n",
            "  Preparing metadata (setup.py) ... \u001b[?25l\u001b[?25hdone\n",
            "Collecting onnxruntime\n",
            "  Downloading onnxruntime-1.16.3-cp310-cp310-manylinux_2_17_x86_64.manylinux2014_x86_64.whl (6.4 MB)\n",
            "\u001b[2K     \u001b[90m━━━━━━━━━━━━━━━━━━━━━━━━━━━━━━━━━━━━━━━━\u001b[0m \u001b[32m6.4/6.4 MB\u001b[0m \u001b[31m27.4 MB/s\u001b[0m eta \u001b[36m0:00:00\u001b[0m\n",
            "\u001b[?25hCollecting coloredlogs (from onnxruntime)\n",
            "  Downloading coloredlogs-15.0.1-py2.py3-none-any.whl (46 kB)\n",
            "\u001b[2K     \u001b[90m━━━━━━━━━━━━━━━━━━━━━━━━━━━━━━━━━━━━━━━━\u001b[0m \u001b[32m46.0/46.0 kB\u001b[0m \u001b[31m6.6 MB/s\u001b[0m eta \u001b[36m0:00:00\u001b[0m\n",
            "\u001b[?25hRequirement already satisfied: flatbuffers in /usr/local/lib/python3.10/dist-packages (from onnxruntime) (23.5.26)\n",
            "Requirement already satisfied: numpy>=1.21.6 in /usr/local/lib/python3.10/dist-packages (from onnxruntime) (1.23.5)\n",
            "Requirement already satisfied: packaging in /usr/local/lib/python3.10/dist-packages (from onnxruntime) (23.2)\n",
            "Requirement already satisfied: protobuf in /usr/local/lib/python3.10/dist-packages (from onnxruntime) (3.20.3)\n",
            "Requirement already satisfied: sympy in /usr/local/lib/python3.10/dist-packages (from onnxruntime) (1.12)\n",
            "Collecting humanfriendly>=9.1 (from coloredlogs->onnxruntime)\n",
            "  Downloading humanfriendly-10.0-py2.py3-none-any.whl (86 kB)\n",
            "\u001b[2K     \u001b[90m━━━━━━━━━━━━━━━━━━━━━━━━━━━━━━━━━━━━━━━━\u001b[0m \u001b[32m86.8/86.8 kB\u001b[0m \u001b[31m12.9 MB/s\u001b[0m eta \u001b[36m0:00:00\u001b[0m\n",
            "\u001b[?25hRequirement already satisfied: mpmath>=0.19 in /usr/local/lib/python3.10/dist-packages (from sympy->onnxruntime) (1.3.0)\n",
            "Building wheels for collected packages: wget\n",
            "  Building wheel for wget (setup.py) ... \u001b[?25l\u001b[?25hdone\n",
            "  Created wheel for wget: filename=wget-3.2-py3-none-any.whl size=9655 sha256=162bd1c79185039a542f48e1e17143124eb7c5740401fb09df9cd4d63a8b516a\n",
            "  Stored in directory: /root/.cache/pip/wheels/8b/f1/7f/5c94f0a7a505ca1c81cd1d9208ae2064675d97582078e6c769\n",
            "Successfully built wget\n",
            "Installing collected packages: wget, humanfriendly, coloredlogs, onnxruntime\n",
            "Successfully installed coloredlogs-15.0.1 humanfriendly-10.0 onnxruntime-1.16.3 wget-3.2\n"
          ]
        }
      ]
    },
    {
      "cell_type": "markdown",
      "source": [
        "#### Run functions cells to instantiate them"
      ],
      "metadata": {
        "id": "v_5nPka-QFJp"
      }
    },
    {
      "cell_type": "code",
      "source": [
        "import IPython\n",
        "\n",
        "def gpu_info():\n",
        "    try:\n",
        "        gpu_name = IPython.get_ipython().getoutput('nvidia-smi --query-gpu=gpu_name --format=csv,noheader')\n",
        "        return gpu_name[0].strip() if gpu_name else None\n",
        "    except Exception as e:\n",
        "        print(f\"Error: {e}\")\n",
        "        return None\n",
        "\n",
        "\n",
        "gpu_name = gpu_info()\n",
        "\n",
        "if gpu_name:\n",
        "    print(f\"GPU Name: {gpu_name}\")\n",
        "else:\n",
        "    print(\"No GPU information available.\")"
      ],
      "metadata": {
        "colab": {
          "base_uri": "https://localhost:8080/"
        },
        "id": "LEBYCvHj1ScC",
        "outputId": "c9e4d6cd-546e-471b-d439-ee4571fbb7f4"
      },
      "execution_count": 3,
      "outputs": [
        {
          "output_type": "stream",
          "name": "stdout",
          "text": [
            "GPU Name: Tesla T4\n"
          ]
        }
      ]
    },
    {
      "cell_type": "code",
      "execution_count": 4,
      "metadata": {
        "id": "KAyH7EY8XFPd"
      },
      "outputs": [],
      "source": [
        "import torch, time, argparse, requests, wget, onnxruntime, tarfile, os, cv2\n",
        "import numpy as np\n",
        "import matplotlib.pyplot as plt\n",
        "from matplotlib.pyplot import imshow\n",
        "from PIL import Image\n",
        "from urllib.parse import urlparse\n",
        "import pandas as pd\n",
        "\n",
        "def run_on_gpu(model, model_name, device_name, input_tensor, device):\n",
        "    \"\"\"Running Regular PyTorch Models\"\"\"\n",
        "\n",
        "\n",
        "    # Model -> GPU\n",
        "    model.to(device)\n",
        "    input_tensor = input_tensor.to(device)\n",
        "\n",
        "    model.eval()\n",
        "\n",
        "    # Avoid timing fluctuations\n",
        "    with torch.no_grad():\n",
        "        _ = model(input_tensor)\n",
        "\n",
        "\n",
        "    num_iterations = 100  # Adjust Parameter based on experiments\n",
        "    total_time = 0.0\n",
        "\n",
        "    for _ in range(num_iterations):\n",
        "        start_time = time.time()\n",
        "\n",
        "        with torch.no_grad():\n",
        "            output = model(input_tensor)\n",
        "\n",
        "        end_time = time.time()\n",
        "        iteration_time = end_time - start_time\n",
        "        total_time += iteration_time\n",
        "\n",
        "    average_time = total_time / num_iterations\n",
        "    print(f\"Average inference time on {device}: {average_time:.6f} seconds\")\n",
        "\n",
        "    # Update Data File; change file_path when using locally:\n",
        "    file_path = f'./drive/MyDrive/GPU_benchmarks/gpu_latency_data_{model_name}.txt'\n",
        "    update_gpu_latency(file_path, device_name, average_time)\n",
        "    print(f\"Average inference time on {device_name}: {average_time:.6f} seconds\")\n",
        "    plot_latency(file_path)\n",
        "\n",
        "def download_and_load_onnx_model(link_to_tar, model_file_name):\n",
        "    \"\"\"Downloads Link to raw tar files from ONNX\n",
        "    GitHub Repository and runs an inference session\"\"\"\n",
        "\n",
        "    # Colab Local Folder, needs to be changed in other places:\n",
        "    download_dir = \"/content\"\n",
        "    tar_file_path = os.path.join(download_dir, model_file_name + \".tar\")\n",
        "    wget.download(link_to_tar, tar_file_path)\n",
        "\n",
        "    # Extracting\n",
        "    with tarfile.open(tar_file_path, 'r:gz') as tar:\n",
        "        tar.extractall(download_dir)\n",
        "\n",
        "    # Load ONNX model\n",
        "    onnx_model_path = os.path.join(download_dir, model_file_name, model_file_name + \".onnx\")\n",
        "    session = onnxruntime.InferenceSession(onnx_model_path,\n",
        "                                           providers=['CUDAExecutionProvider', 'CPUExecutionProvider'])\n",
        "\n",
        "    return session\n",
        "\n",
        "# Custom Preprocess for Yolov4 ONNX Models\n",
        "\n",
        "def image_preprocess(image, target_size, gt_boxes=None):\n",
        "\n",
        "    ih, iw = target_size\n",
        "    h, w, _ = image.shape\n",
        "\n",
        "    scale = min(iw/w, ih/h)\n",
        "    nw, nh = int(scale * w), int(scale * h)\n",
        "    image_resized = cv2.resize(image, (nw, nh))\n",
        "\n",
        "    image_padded = np.full(shape=[ih, iw, 3], fill_value=128.0)\n",
        "    dw, dh = (iw - nw) // 2, (ih-nh) // 2\n",
        "    image_padded[dh:nh+dh, dw:nw+dw, :] = image_resized\n",
        "    image_padded = image_padded / 255.\n",
        "\n",
        "    if gt_boxes is None:\n",
        "        return image_padded\n",
        "\n",
        "    else:\n",
        "        gt_boxes[:, [0, 2]] = gt_boxes[:, [0, 2]] * scale + dw\n",
        "        gt_boxes[:, [1, 3]] = gt_boxes[:, [1, 3]] * scale + dh\n",
        "        return image_padded, gt_boxes\n",
        "\n",
        "def is_valid_url(url):\n",
        "    try:\n",
        "        result = urlparse(url)\n",
        "        return all([result.scheme, result.netloc])\n",
        "    except ValueError:\n",
        "        return False\n",
        "\n",
        "def download_model_from_github(github_url, save_path):\n",
        "    response = requests.get(github_url)\n",
        "    with open(save_path, 'wb') as file:\n",
        "        file.write(response.content)\n"
      ]
    },
    {
      "cell_type": "code",
      "source": [
        "%matplotlib inline\n",
        "\n",
        "def run_onnx_gpu(onnx_session, model_name, device, test_img):\n",
        "    \"\"\"\n",
        "    Args: Onnx sessions, image from Ultralytics website\n",
        "    \"\"\"\n",
        "    # Running ONNX Models\n",
        "    input_size = 416\n",
        "\n",
        "    if not os.path.exists(test_img):\n",
        "        wget.download(\"https://ultralytics.com/images/bus.jpg\", test_img)\n",
        "\n",
        "    test_img = cv2.imread(test_img)\n",
        "    test_img = cv2.cvtColor(test_img, cv2.COLOR_BGR2RGB)\n",
        "    test_img_size = test_img.shape[:2]\n",
        "\n",
        "    img_data = image_preprocess(np.copy(test_img), [input_size, input_size])\n",
        "    img_data = img_data[np.newaxis, ...].astype(np.float32)\n",
        "\n",
        "    outputs = onnx_session.get_outputs()\n",
        "    output_names = list(map(lambda output: output.name, outputs))\n",
        "    input_name = onnx_session.get_inputs()[0].name\n",
        "\n",
        "    num_iterations = 100\n",
        "    total_time = 0.0\n",
        "\n",
        "    for _ in range(num_iterations):\n",
        "        start_time = time.time()\n",
        "        detection = onnx_session.run(output_names, {input_name: img_data})\n",
        "        end_time = time.time()\n",
        "\n",
        "        iteration_time = end_time - start_time\n",
        "        total_time += iteration_time\n",
        "\n",
        "    average_time = total_time / num_iterations\n",
        "\n",
        "    # Update Data File; change file_path when using locally:\n",
        "    file_path = f'./drive/MyDrive/GPU_benchmarks/gpu_latency_data_{model_name}.txt'\n",
        "    update_gpu_latency(file_path, device, average_time)\n",
        "    print(f\"Average inference time on {device}: {average_time:.6f} seconds\")\n",
        "    plot_latency(file_path)\n",
        "\n",
        "\n",
        "def update_gpu_latency(file_path, gpu_name, latency):\n",
        "    # Check folder if it doesn't exist. Change if running locally.\n",
        "    folder_path = \"./drive/MyDrive/GPU_benchmarks/\"\n",
        "    if not os.path.exists(folder_path):\n",
        "            os.makedirs(folder_path)\n",
        "            print(f\"Folder created at: {folder_path}\")\n",
        "\n",
        "    # Create the file if it doesn't exist.\n",
        "    if not os.path.exists(file_path):\n",
        "        with open(file_path, 'w') as file:\n",
        "            pass\n",
        "\n",
        "        print(f\"File created at: {file_path}\")\n",
        "\n",
        "    try:\n",
        "        # Read existing data from the file\n",
        "        with open(file_path, 'r') as file:\n",
        "            lines = file.readlines()\n",
        "\n",
        "        # Check if the GPU name is already in the file\n",
        "        found = False\n",
        "        for i, line in enumerate(lines):\n",
        "            if gpu_name in line:\n",
        "                # Update if the GPU already exits\n",
        "                lines[i] = f\"{gpu_name}, {latency}\\n\"\n",
        "                found = True\n",
        "                break\n",
        "\n",
        "        # If GPU name is not found, append a new entry\n",
        "        if not found:\n",
        "            lines.append(f\"{gpu_name}, {latency}\\n\")\n",
        "\n",
        "        # Write the updated data back to the file\n",
        "        with open(file_path, 'w') as file:\n",
        "            file.writelines(lines)\n",
        "\n",
        "        print(f\"Data updated successfully for GPU: {gpu_name}\")\n",
        "\n",
        "    except Exception as e:\n",
        "        print(f\"Error: {e}\")\n",
        "\n",
        "\n",
        "def plot_latency(file_path):\n",
        "    try:\n",
        "        df = pd.read_csv(file_path, header=None, names=['gpu_name', 'latency'])\n",
        "\n",
        "        model_name = file_path.split(\"_\")[-1]\n",
        "        model_name = os.path.splitext(model_name)[0]\n",
        "        # Create a bar graph\n",
        "        plt.barh(df['gpu_name'], df['latency'], color='skyblue', height=0.5)\n",
        "        plt.xlabel('Latency')\n",
        "        plt.ylabel('GPU Name')\n",
        "        plt.title(f'GPU Latency for {model_name}')\n",
        "        plt.show()\n",
        "\n",
        "    except Exception as e:\n",
        "        print(f\"Error: {e}\")"
      ],
      "metadata": {
        "id": "gS_ju4yRx3f1"
      },
      "execution_count": 15,
      "outputs": []
    },
    {
      "cell_type": "code",
      "source": [
        "def run_pytorch_hub_gpu(model, model_name, device, test_data):\n",
        "    \"\"\"\n",
        "    Load models using pytorch_hub\n",
        "    \"\"\"\n",
        "    # One image batch for inference\n",
        "    if not os.path.exists(test_data):\n",
        "        torch.hub.download_url_to_file('https://ultralytics.com/images/' + test_data, test_data)\n",
        "\n",
        "    #img = Image.open(test_data)\n",
        "    img = cv2.imread(test_data)\n",
        "\n",
        "    num_iterations = 100\n",
        "    total_time = 0.0\n",
        "\n",
        "    for _ in range(num_iterations):\n",
        "        start_time = time.time()\n",
        "        results = model([img])\n",
        "        end_time = time.time()\n",
        "\n",
        "        iteration_time = end_time - start_time\n",
        "        total_time += iteration_time\n",
        "\n",
        "    average_time = total_time / num_iterations\n",
        "\n",
        "    # Update Data File; change file_path when using locally:\n",
        "    file_path = f'./drive/MyDrive/GPU_benchmarks/gpu_latency_data_{model_name}.txt'\n",
        "    update_gpu_latency(file_path, device, average_time)\n",
        "    print(f\"Average inference time on {device}: {average_time:.6f} seconds\")\n",
        "    plot_latency(file_path)\n"
      ],
      "metadata": {
        "id": "gNAkF6lcQqqe"
      },
      "execution_count": null,
      "outputs": []
    },
    {
      "cell_type": "markdown",
      "source": [
        "## 2. Testing ONNX Yolo Model"
      ],
      "metadata": {
        "id": "5oatvXIePqck"
      }
    },
    {
      "cell_type": "code",
      "source": [
        "# Testing ONNX Model Yolov4:\n",
        "\n",
        "# Replace with other models links\n",
        "model_link = \"https://github.com/onnx/models/raw/main/archive/vision/object_detection_segmentation/yolov4/model/yolov4.tar.gz\"\n",
        "model_name = \"yolov4\"\n",
        "\n",
        "onnx_session = download_and_load_onnx_model(model_link, model_name)\n",
        "\n",
        "run_onnx_gpu(onnx_session, model_name, gpu_name, \"bus.jpg\")\n"
      ],
      "metadata": {
        "colab": {
          "base_uri": "https://localhost:8080/",
          "height": 560
        },
        "id": "kk_gl25LMI1G",
        "outputId": "4a1f4df2-635d-46a3-fcdd-63f8a939bdd3"
      },
      "execution_count": null,
      "outputs": [
        {
          "output_type": "stream",
          "name": "stderr",
          "text": [
            "/usr/local/lib/python3.10/dist-packages/onnxruntime/capi/onnxruntime_inference_collection.py:69: UserWarning: Specified provider 'CUDAExecutionProvider' is not in available provider names.Available providers: 'AzureExecutionProvider, CPUExecutionProvider'\n",
            "  warnings.warn(\n"
          ]
        },
        {
          "output_type": "stream",
          "name": "stdout",
          "text": [
            "Data updated successfully for GPU: Tesla T4\n",
            "Average inference time on Tesla T4: 0.397479 seconds\n"
          ]
        },
        {
          "output_type": "display_data",
          "data": {
            "text/plain": [
              "<Figure size 640x480 with 1 Axes>"
            ],
            "image/png": "[encoded data removed]"
          },
          "metadata": {}
        }
      ]
    },
    {
      "cell_type": "code",
      "source": [],
      "metadata": {
        "id": "2gupz83dnVee"
      },
      "execution_count": 6,
      "outputs": []
    },
    {
      "cell_type": "markdown",
      "source": [
        "## Testing PyTorch Models\n",
        "1. Run the PyTorch YOLO model. Can be replaced by other models from PyTorh Hub.\n",
        "2. Run second cell to generate the graph."
      ],
      "metadata": {
        "id": "zYwy8l_PQsrv"
      }
    },
    {
      "cell_type": "code",
      "source": [
        "# PyTorch Hub Models\n",
        "# Replace with other model links from PyTorch Hub.\n",
        "pytorch_model_name = 'yolov5l'\n",
        "model = torch.hub.load('ultralytics/yolov5',\n",
        "                       pytorch_model_name, pretrained=True)\n",
        "\n"
      ],
      "metadata": {
        "id": "JkQtP1FblLCr",
        "colab": {
          "base_uri": "https://localhost:8080/"
        },
        "outputId": "bedf79d5-be2b-4fe0-a8e4-8264a4fd8c54"
      },
      "execution_count": 7,
      "outputs": [
        {
          "output_type": "stream",
          "name": "stderr",
          "text": [
            "/usr/local/lib/python3.10/dist-packages/torch/hub.py:294: UserWarning: You are about to download and run code from an untrusted repository. In a future release, this won't be allowed. To add the repository to your trusted list, change the command to {calling_fn}(..., trust_repo=False) and a command prompt will appear asking for an explicit confirmation of trust, or load(..., trust_repo=True), which will assume that the prompt is to be answered with 'yes'. You can also use load(..., trust_repo='check') which will only prompt for confirmation if the repo is not already trusted. This will eventually be the default behaviour\n",
            "  warnings.warn(\n",
            "Downloading: \"https://github.com/ultralytics/yolov5/zipball/master\" to /root/.cache/torch/hub/master.zip\n"
          ]
        },
        {
          "output_type": "stream",
          "name": "stdout",
          "text": [
            "\u001b[31m\u001b[1mrequirements:\u001b[0m Ultralytics requirements ['gitpython>=3.1.30', 'Pillow>=10.0.1'] not found, attempting AutoUpdate...\n",
            "Collecting gitpython>=3.1.30\n",
            "  Downloading GitPython-3.1.40-py3-none-any.whl (190 kB)\n",
            "     ━━━━━━━━━━━━━━━━━━━━━━━━━━━━━━━━━━━━━━━━ 190.6/190.6 kB 5.4 MB/s eta 0:00:00\n",
            "Collecting Pillow>=10.0.1\n",
            "  Downloading Pillow-10.1.0-cp310-cp310-manylinux_2_28_x86_64.whl (3.6 MB)\n",
            "     ━━━━━━━━━━━━━━━━━━━━━━━━━━━━━━━━━━━━━━━━ 3.6/3.6 MB 27.0 MB/s eta 0:00:00\n",
            "Collecting gitdb<5,>=4.0.1 (from gitpython>=3.1.30)\n",
            "  Downloading gitdb-4.0.11-py3-none-any.whl (62 kB)\n",
            "     ━━━━━━━━━━━━━━━━━━━━━━━━━━━━━━━━━━━━━━━━ 62.7/62.7 kB 239.5 MB/s eta 0:00:00\n",
            "Collecting smmap<6,>=3.0.1 (from gitdb<5,>=4.0.1->gitpython>=3.1.30)\n",
            "  Downloading smmap-5.0.1-py3-none-any.whl (24 kB)\n",
            "Installing collected packages: smmap, Pillow, gitdb, gitpython\n",
            "  Attempting uninstall: Pillow\n",
            "    Found existing installation: Pillow 9.4.0\n",
            "    Uninstalling Pillow-9.4.0:\n",
            "      Successfully uninstalled Pillow-9.4.0\n",
            "Successfully installed Pillow-10.1.0 gitdb-4.0.11 gitpython-3.1.40 smmap-5.0.1\n",
            "\n",
            "\u001b[31m\u001b[1mrequirements:\u001b[0m AutoUpdate success ✅ 6.4s, installed 2 packages: ['gitpython>=3.1.30', 'Pillow>=10.0.1']\n",
            "\u001b[31m\u001b[1mrequirements:\u001b[0m ⚠️ \u001b[1mRestart runtime or rerun command for updates to take effect\u001b[0m\n",
            "\n"
          ]
        },
        {
          "output_type": "stream",
          "name": "stderr",
          "text": [
            "YOLOv5 🚀 2023-12-18 Python-3.10.12 torch-2.1.0+cu121 CUDA:0 (Tesla T4, 15102MiB)\n",
            "\n",
            "Downloading https://github.com/ultralytics/yolov5/releases/download/v7.0/yolov5l.pt to yolov5l.pt...\n",
            "100%|██████████| 89.3M/89.3M [00:01<00:00, 50.9MB/s]\n",
            "\n",
            "Fusing layers... \n",
            "YOLOv5l summary: 367 layers, 46533693 parameters, 0 gradients, 109.0 GFLOPs\n",
            "Adding AutoShape... \n"
          ]
        }
      ]
    },
    {
      "cell_type": "code",
      "source": [
        "%matplotlib inline\n",
        "# Graph cell\n",
        "\n",
        "run_pytorch_hub_gpu(model, pytorch_model_name, gpu_name, \"bus.jpg\")"
      ],
      "metadata": {
        "colab": {
          "base_uri": "https://localhost:8080/",
          "height": 508
        },
        "id": "E_znMQMdwKzT",
        "outputId": "e91bb211-b96b-4943-e7b5-aecff05211d2"
      },
      "execution_count": 16,
      "outputs": [
        {
          "output_type": "stream",
          "name": "stdout",
          "text": [
            "Data updated successfully for GPU: Tesla T4\n",
            "Average inference time on Tesla T4: 0.027437 seconds\n"
          ]
        },
        {
          "output_type": "display_data",
          "data": {
            "text/plain": [
              "<Figure size 640x480 with 1 Axes>"
            ],
            "image/png": "[encoded data removed]"
          },
          "metadata": {}
        }
      ]
    },
    {
      "cell_type": "markdown",
      "source": [
        "## Testing Custom Model  Inference\n",
        "1. Develop your own model and try usin to test GPUs.\n",
        "2. Example below shows a sample model and how it is saved and loaded later to run benchmarking test.\n",
        "3. If you have access to a PyTorch 'pth' file and change the load function by giving path to it."
      ],
      "metadata": {
        "id": "bhJP9iZ2RxUr"
      }
    },
    {
      "cell_type": "code",
      "source": [
        "import torch\n",
        "import torch.nn as nn\n",
        "import torch.optim as optim\n",
        "from torchvision import datasets, transforms\n",
        "from torch.utils.data import DataLoader\n",
        "from torchvision.models import resnet18\n",
        "\n",
        "class CustomCNN(nn.Module):\n",
        "    def __init__(self, num_classes):\n",
        "        super(CustomCNN, self).__init__()\n",
        "        # ResNet18 as a base model\n",
        "        self.resnet18 = resnet18(pretrained=False)\n",
        "        in_features = self.resnet18.fc.in_features\n",
        "        self.resnet18.fc = nn.Linear(in_features, num_classes)\n",
        "\n",
        "    def forward(self, x):\n",
        "        return self.resnet18(x)"
      ],
      "metadata": {
        "id": "9dDaIPHO9e9k"
      },
      "execution_count": null,
      "outputs": []
    },
    {
      "cell_type": "code",
      "source": [
        "device = torch.device('cuda' if torch.cuda.is_available() else 'cpu')\n",
        "\n",
        "# Pre-processing\n",
        "transform = transforms.Compose([\n",
        "    transforms.RandomResizedCrop(224),\n",
        "    transforms.RandomHorizontalFlip(),\n",
        "    transforms.ToTensor(),\n",
        "    transforms.Normalize(mean=[0.485, 0.456, 0.406], std=[0.229, 0.224, 0.225]),\n",
        "])\n",
        "\n",
        "# Load training dataset\n",
        "train_dataset = datasets.CIFAR10(root='./data', train=True, download=True, transform=transform)\n",
        "train_loader = DataLoader(train_dataset, batch_size=32, shuffle=True, num_workers=4)\n",
        "\n",
        "# Initialize  model, loss function, and optimizer\n",
        "num_classes = 10  # CIFAR-10 has 10 classes\n",
        "model = CustomCNN(num_classes=num_classes).to(device)\n",
        "criterion = nn.CrossEntropyLoss()\n",
        "optimizer = optim.Adam(model.parameters(), lr=0.001)"
      ],
      "metadata": {
        "colab": {
          "base_uri": "https://localhost:8080/"
        },
        "id": "fzgmYwVG90kN",
        "outputId": "7535e5f4-07bc-4d9e-c179-5d018edfe108"
      },
      "execution_count": null,
      "outputs": [
        {
          "output_type": "stream",
          "name": "stdout",
          "text": [
            "Downloading https://www.cs.toronto.edu/~kriz/cifar-10-python.tar.gz to ./data/cifar-10-python.tar.gz\n"
          ]
        },
        {
          "output_type": "stream",
          "name": "stderr",
          "text": [
            "100%|██████████| 170498071/170498071 [00:05<00:00, 29751477.78it/s]\n"
          ]
        },
        {
          "output_type": "stream",
          "name": "stdout",
          "text": [
            "Extracting ./data/cifar-10-python.tar.gz to ./data\n"
          ]
        },
        {
          "output_type": "stream",
          "name": "stderr",
          "text": [
            "/usr/local/lib/python3.10/dist-packages/torchvision/models/_utils.py:208: UserWarning: The parameter 'pretrained' is deprecated since 0.13 and may be removed in the future, please use 'weights' instead.\n",
            "  warnings.warn(\n",
            "/usr/local/lib/python3.10/dist-packages/torchvision/models/_utils.py:223: UserWarning: Arguments other than a weight enum or `None` for 'weights' are deprecated since 0.13 and may be removed in the future. The current behavior is equivalent to passing `weights=None`.\n",
            "  warnings.warn(msg)\n"
          ]
        },
        {
          "output_type": "stream",
          "name": "stdout",
          "text": [
            "Epoch [1/5], Loss: 1.7089\n",
            "Epoch [2/5], Loss: 2.6902\n",
            "Epoch [3/5], Loss: 1.6209\n",
            "Epoch [4/5], Loss: 1.1809\n",
            "Epoch [5/5], Loss: 1.3072\n"
          ]
        }
      ]
    },
    {
      "cell_type": "code",
      "source": [
        "# Training\n",
        "num_epochs = 5\n",
        "for epoch in range(num_epochs):\n",
        "    model.train()\n",
        "    for inputs, labels in train_loader:\n",
        "        inputs, labels = inputs.to(device), labels.to(device)\n",
        "        optimizer.zero_grad()\n",
        "        outputs = model(inputs)\n",
        "        loss = criterion(outputs, labels)\n",
        "        loss.backward()\n",
        "        optimizer.step()\n",
        "\n",
        "    print(f'Epoch [{epoch+1}/{num_epochs}], Loss: {loss.item():.4f}')\n",
        "\n",
        "# Save trained model -> '.pth' file\n",
        "torch.save(model.state_dict(), './drive/MyDrive/GPU_benchmarks/custom_cnn_model.pth')"
      ],
      "metadata": {
        "id": "7QeoXrokSDEQ"
      },
      "execution_count": null,
      "outputs": []
    },
    {
      "cell_type": "markdown",
      "source": [
        "### Inference\n",
        "1. Previous cell saves the model to a path in the google drive. Change path to run your own model."
      ],
      "metadata": {
        "id": "0HDYJ7-pSOr3"
      }
    },
    {
      "cell_type": "code",
      "source": [
        "PATH = \"./drive/MyDrive/GPU_benchmarks/custom_cnn_model.pth\"\n",
        "\n",
        "img = cv2.imread('bus.jpg')\n",
        "model_name = 'custom_cnn_model'\n",
        "sample_img = torch.randn(1, 3, 224, 224)\n",
        "\n",
        "model = CustomCNN(num_classes=num_classes)\n",
        "model.load_state_dict(torch.load(PATH))\n",
        "\n",
        "run_on_gpu(model, model_name, gpu_name, sample_img, device)\n"
      ],
      "metadata": {
        "colab": {
          "base_uri": "https://localhost:8080/",
          "height": 523
        },
        "id": "E0BXAt17ATlK",
        "outputId": "84ce44db-b7a7-4c9b-d892-edaee945fec8"
      },
      "execution_count": null,
      "outputs": [
        {
          "output_type": "stream",
          "name": "stdout",
          "text": [
            "Average inference time on cuda: 0.003106 seconds\n",
            "Data updated successfully for GPU: Tesla T4\n",
            "Average inference time on Tesla T4: 0.003106 seconds\n"
          ]
        },
        {
          "output_type": "display_data",
          "data": {
            "text/plain": [
              "<Figure size 640x480 with 1 Axes>"
            ],
            "image/png": "[encoded data removed]"
          },
          "metadata": {}
        }
      ]
    }
  ]
}